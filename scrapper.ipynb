{
 "cells": [
  {
   "cell_type": "markdown",
   "id": "f0dda3d0",
   "metadata": {},
   "source": [
    "# Scraping Top Repositoty for Topics on GitHub"
   ]
  },
  {
   "cell_type": "code",
   "execution_count": 2,
   "id": "91c69f7b",
   "metadata": {},
   "outputs": [],
   "source": [
    "# Import all required Libraries\n",
    "import requests\n",
    "from bs4 import BeautifulSoup as bs4\n",
    "import pandas as pd"
   ]
  },
  {
   "cell_type": "markdown",
   "id": "227aac84",
   "metadata": {},
   "source": [
    "base url for scraping site"
   ]
  },
  {
   "cell_type": "code",
   "execution_count": 3,
   "id": "27714ad7",
   "metadata": {},
   "outputs": [],
   "source": [
    "base_url=\"https://github.com/topics\""
   ]
  },
  {
   "cell_type": "markdown",
   "id": "615c9e2a",
   "metadata": {},
   "source": [
    "Performing follwing information\n",
    "\n",
    "    Title of the top git repository contaning \n",
    "    1.Topic_name\n",
    "    2.Topic_desription\n",
    "    3.Topic url\n",
    "  \n"
   ]
  },
  {
   "cell_type": "markdown",
   "id": "90ebe576",
   "metadata": {},
   "source": [
    "Downloading the the html page"
   ]
  },
  {
   "cell_type": "code",
   "execution_count": 4,
   "id": "bff1c45b",
   "metadata": {},
   "outputs": [],
   "source": [
    "import requests\n",
    "from bs4 import BeautifulSoup\n",
    "\n",
    "def get_topics_page():\n",
    "    \n",
    "    topics_url = 'https://github.com/topics'\n",
    "    response = requests.get(topics_url)\n",
    "    if response.status_code != 200:\n",
    "        raise Exception('Failed to load page {}'.format(topic_url))\n",
    "    doc = bs4(response.text, 'html.parser')\n",
    "    return doc"
   ]
  },
  {
   "cell_type": "code",
   "execution_count": 5,
   "id": "a5eeddb8",
   "metadata": {},
   "outputs": [],
   "source": [
    "doc = get_topics_page()"
   ]
  },
  {
   "cell_type": "markdown",
   "id": "06e6a6e3",
   "metadata": {},
   "source": [
    "Function for obtaining topic title"
   ]
  },
  {
   "cell_type": "code",
   "execution_count": 6,
   "id": "4027457d",
   "metadata": {},
   "outputs": [],
   "source": [
    "def get_topic_titles(doc):\n",
    "    \n",
    "    topic_title_tags = doc.find_all(\"p\",{'class':'f3 lh-condensed mb-0 mt-1 Link--primary'})\n",
    "    topic_titles = []\n",
    "    for i in range(len(topic_title_tags)):\n",
    "        topic_titles.append(topic_title_tags[i].text)\n",
    "    return topic_titles"
   ]
  },
  {
   "cell_type": "code",
   "execution_count": 7,
   "id": "a16c4f0e",
   "metadata": {},
   "outputs": [],
   "source": [
    "titles=get_topic_titles(doc)"
   ]
  },
  {
   "cell_type": "code",
   "execution_count": 8,
   "id": "0c8d899c",
   "metadata": {},
   "outputs": [
    {
     "data": {
      "text/plain": [
       "30"
      ]
     },
     "execution_count": 8,
     "metadata": {},
     "output_type": "execute_result"
    }
   ],
   "source": [
    "len(titles)"
   ]
  },
  {
   "cell_type": "code",
   "execution_count": 9,
   "id": "8f9b138c",
   "metadata": {},
   "outputs": [
    {
     "data": {
      "text/plain": [
       "['3D', 'Ajax', 'Algorithm', 'Amp', 'Android']"
      ]
     },
     "execution_count": 9,
     "metadata": {},
     "output_type": "execute_result"
    }
   ],
   "source": [
    "titles[:5]"
   ]
  },
  {
   "cell_type": "code",
   "execution_count": 10,
   "id": "2ff254c8",
   "metadata": {},
   "outputs": [],
   "source": [
    "def get_topic_url(doc):\n",
    "    selection_class = \"no-underline flex-grow-0\"\n",
    "    topic_url_tags = doc.find_all(\"a\",{'class':\"no-underline flex-grow-0\"})\n",
    "    topic_url = []\n",
    "    base_url='https://github.com'\n",
    "    for i in range(len(topic_url_tags)):\n",
    "        topic_url.append(base_url+topic_url_tags[i]['href'])\n",
    "    return topic_url"
   ]
  },
  {
   "cell_type": "code",
   "execution_count": 11,
   "id": "daafdc60",
   "metadata": {},
   "outputs": [],
   "source": [
    "url=get_topic_url(doc)"
   ]
  },
  {
   "cell_type": "code",
   "execution_count": 12,
   "id": "5070d237",
   "metadata": {},
   "outputs": [
    {
     "data": {
      "text/plain": [
       "['https://github.com/topics/3d',\n",
       " 'https://github.com/topics/ajax',\n",
       " 'https://github.com/topics/algorithm']"
      ]
     },
     "execution_count": 12,
     "metadata": {},
     "output_type": "execute_result"
    }
   ],
   "source": [
    "url[:3]"
   ]
  },
  {
   "cell_type": "markdown",
   "id": "a03521b8",
   "metadata": {},
   "source": [
    "Topic desription"
   ]
  },
  {
   "cell_type": "code",
   "execution_count": 13,
   "id": "81b8fd68",
   "metadata": {},
   "outputs": [],
   "source": [
    "def get_topic_des(doc):\n",
    "    selection_class = \"no-underline flex-grow-0\"\n",
    "    topic_des_tags = doc.find_all(\"p\",{'class':\"f5 color-fg-muted mb-0 mt-1\"})\n",
    "    topic_des = []\n",
    "    \n",
    "    for i in range(len(topic_des_tags)):\n",
    "        topic_des.append(topic_des_tags[i].text.strip())\n",
    "    return topic_des"
   ]
  },
  {
   "cell_type": "code",
   "execution_count": 14,
   "id": "e7e14c76",
   "metadata": {},
   "outputs": [],
   "source": [
    "des=get_topic_des(doc)"
   ]
  },
  {
   "cell_type": "code",
   "execution_count": 15,
   "id": "4c39af14",
   "metadata": {},
   "outputs": [
    {
     "data": {
      "text/plain": [
       "['3D modeling is the process of virtually developing the surface and structure of a 3D object.',\n",
       " 'Ajax is a technique for creating interactive web applications.',\n",
       " 'Algorithms are self-contained sequences that carry out a variety of tasks.',\n",
       " 'Amp is a non-blocking concurrency library for PHP.',\n",
       " 'Android is an operating system built by Google designed for mobile devices.']"
      ]
     },
     "execution_count": 15,
     "metadata": {},
     "output_type": "execute_result"
    }
   ],
   "source": [
    "des[:5]"
   ]
  },
  {
   "cell_type": "markdown",
   "id": "31451a1a",
   "metadata": {},
   "source": [
    "Scrap all contents into csv fle"
   ]
  },
  {
   "cell_type": "code",
   "execution_count": 16,
   "id": "9c4dc8a8",
   "metadata": {},
   "outputs": [],
   "source": [
    "def scrape_topics():\n",
    "    topics_url = 'https://github.com/topics'\n",
    "    response = requests.get(topics_url)\n",
    "    if response.status_code != 200:\n",
    "        raise Exception('Failed to load page {}'.format(topic_url))\n",
    "    doc = BeautifulSoup(response.text, 'html.parser')\n",
    "    topics_dict = {\n",
    "        'title': get_topic_titles(doc),\n",
    "        'description': get_topic_des(doc),\n",
    "        'url': get_topic_url(doc)\n",
    "    }\n",
    "    return pd.DataFrame(topics_dict)"
   ]
  },
  {
   "cell_type": "code",
   "execution_count": 17,
   "id": "c95c291c",
   "metadata": {},
   "outputs": [],
   "source": [
    "scraped_title=scrape_topics()"
   ]
  },
  {
   "cell_type": "code",
   "execution_count": 18,
   "id": "295e088f",
   "metadata": {},
   "outputs": [
    {
     "data": {
      "text/html": [
       "<div>\n",
       "<style scoped>\n",
       "    .dataframe tbody tr th:only-of-type {\n",
       "        vertical-align: middle;\n",
       "    }\n",
       "\n",
       "    .dataframe tbody tr th {\n",
       "        vertical-align: top;\n",
       "    }\n",
       "\n",
       "    .dataframe thead th {\n",
       "        text-align: right;\n",
       "    }\n",
       "</style>\n",
       "<table border=\"1\" class=\"dataframe\">\n",
       "  <thead>\n",
       "    <tr style=\"text-align: right;\">\n",
       "      <th></th>\n",
       "      <th>title</th>\n",
       "      <th>description</th>\n",
       "      <th>url</th>\n",
       "    </tr>\n",
       "  </thead>\n",
       "  <tbody>\n",
       "    <tr>\n",
       "      <th>0</th>\n",
       "      <td>3D</td>\n",
       "      <td>3D modeling is the process of virtually develo...</td>\n",
       "      <td>https://github.com/topics/3d</td>\n",
       "    </tr>\n",
       "    <tr>\n",
       "      <th>1</th>\n",
       "      <td>Ajax</td>\n",
       "      <td>Ajax is a technique for creating interactive w...</td>\n",
       "      <td>https://github.com/topics/ajax</td>\n",
       "    </tr>\n",
       "    <tr>\n",
       "      <th>2</th>\n",
       "      <td>Algorithm</td>\n",
       "      <td>Algorithms are self-contained sequences that c...</td>\n",
       "      <td>https://github.com/topics/algorithm</td>\n",
       "    </tr>\n",
       "    <tr>\n",
       "      <th>3</th>\n",
       "      <td>Amp</td>\n",
       "      <td>Amp is a non-blocking concurrency library for ...</td>\n",
       "      <td>https://github.com/topics/amphp</td>\n",
       "    </tr>\n",
       "    <tr>\n",
       "      <th>4</th>\n",
       "      <td>Android</td>\n",
       "      <td>Android is an operating system built by Google...</td>\n",
       "      <td>https://github.com/topics/android</td>\n",
       "    </tr>\n",
       "  </tbody>\n",
       "</table>\n",
       "</div>"
      ],
      "text/plain": [
       "       title                                        description  \\\n",
       "0         3D  3D modeling is the process of virtually develo...   \n",
       "1       Ajax  Ajax is a technique for creating interactive w...   \n",
       "2  Algorithm  Algorithms are self-contained sequences that c...   \n",
       "3        Amp  Amp is a non-blocking concurrency library for ...   \n",
       "4    Android  Android is an operating system built by Google...   \n",
       "\n",
       "                                   url  \n",
       "0         https://github.com/topics/3d  \n",
       "1       https://github.com/topics/ajax  \n",
       "2  https://github.com/topics/algorithm  \n",
       "3      https://github.com/topics/amphp  \n",
       "4    https://github.com/topics/android  "
      ]
     },
     "execution_count": 18,
     "metadata": {},
     "output_type": "execute_result"
    }
   ],
   "source": [
    "scraped_title[:5]"
   ]
  },
  {
   "cell_type": "markdown",
   "id": "d45d2056",
   "metadata": {},
   "source": [
    "# Get the top 20 repositories from a topic page"
   ]
  },
  {
   "cell_type": "code",
   "execution_count": 19,
   "id": "34b36394",
   "metadata": {},
   "outputs": [],
   "source": [
    "def get_topic_page(topic_url):\n",
    "    # Download the page\n",
    "    response = requests.get(topic_url)\n",
    "    # Check successful response\n",
    "    if response.status_code != 200:\n",
    "        raise Exception('Failed to load page {}'.format(topic_url))\n",
    "    # Parse using Beautiful soup\n",
    "    topic_doc = BeautifulSoup(response.text, 'html.parser')\n",
    "    return topic_doc"
   ]
  },
  {
   "cell_type": "code",
   "execution_count": 20,
   "id": "6561a761",
   "metadata": {},
   "outputs": [],
   "source": [
    "doc = get_topic_page('https://github.com/topics/ajax')"
   ]
  },
  {
   "cell_type": "code",
   "execution_count": 21,
   "id": "b3f3a955",
   "metadata": {},
   "outputs": [],
   "source": [
    "def parse_star_count(stars):\n",
    "    stars=stars.strip()\n",
    "    if stars[-1]=='k':\n",
    "        return int(float(stars[:-1])*1000)\n",
    "    return(int(stars))"
   ]
  },
  {
   "cell_type": "code",
   "execution_count": 22,
   "id": "253adb28",
   "metadata": {},
   "outputs": [],
   "source": [
    "def get_repo_info(repo_tags, star_tags):  \n",
    "    a=repo_tags.find_all('a')\n",
    "    user_name=a[0].text.strip()\n",
    "    repo_name=a[1].text.strip()\n",
    "    url_repo=\"https://github.com/topics\"+ a[1]['href']\n",
    "    star_tags=parse_star_count(star_tags.text)\n",
    "    return user_name, repo_name, url_repo, star_tags"
   ]
  },
  {
   "cell_type": "code",
   "execution_count": 23,
   "id": "63c26dde",
   "metadata": {},
   "outputs": [],
   "source": [
    "def get_topics_page():\n",
    "    topics_url = 'https://github.com/topics'\n",
    "    response = requests.get(topics_url)\n",
    "    if response.status_code != 200:\n",
    "        raise Exception('Failed to load page {}'.format(topic_url))\n",
    "    doc = BeautifulSoup(response.text, 'html.parser')\n",
    "    return doc"
   ]
  },
  {
   "cell_type": "code",
   "execution_count": 24,
   "id": "58bee60f",
   "metadata": {},
   "outputs": [],
   "source": [
    "def get_topic_repo(doc):\n",
    "    # Get the h3 tags containing repo title, repo URL and username\n",
    "    repo_tags = doc.find_all('h3',{'class':\"f3 color-fg-muted text-normal lh-condensed\"})\n",
    "\n",
    "    # Get star tags\n",
    "    star_tags=doc.find_all('span', {'id':'repo-stars-counter-star'})\n",
    "\n",
    "\n",
    "    topic_repo_dict={ \"repo_name\":[],\"user_name\":[],\"repo_url\":[],\"star\":[]}\n",
    "\n",
    "    for i in range(len(repo_tags)):\n",
    "        repo_info=get_repo_info(repo_tags[i], star_tags[i]) #use function et_topics_page\n",
    "        topic_repo_dict[\"repo_name\"].append(repo_info[0])\n",
    "        topic_repo_dict[\"user_name\"].append(repo_info[1])\n",
    "        topic_repo_dict[\"star\"].append(repo_info[3])\n",
    "        topic_repo_dict[\"repo_url\"].append(repo_info[2])\n",
    "         \n",
    "    return pd.DataFrame(topic_repo_dict)\n",
    "     "
   ]
  },
  {
   "cell_type": "markdown",
   "id": "b77f61cf",
   "metadata": {},
   "source": [
    "From git, Ajax is one of top repository with url=https://github.com/topics/ajax"
   ]
  },
  {
   "cell_type": "code",
   "execution_count": 25,
   "id": "b5ae6b93",
   "metadata": {},
   "outputs": [],
   "source": [
    "doc = get_topic_page('https://github.com/topics/ajax')"
   ]
  },
  {
   "cell_type": "code",
   "execution_count": 26,
   "id": "8da74b5e",
   "metadata": {},
   "outputs": [],
   "source": [
    "scrap_content=get_topic_repo(doc)"
   ]
  },
  {
   "cell_type": "code",
   "execution_count": 27,
   "id": "c10efd8d",
   "metadata": {},
   "outputs": [
    {
     "data": {
      "text/plain": [
       "20"
      ]
     },
     "execution_count": 27,
     "metadata": {},
     "output_type": "execute_result"
    }
   ],
   "source": [
    "len(scrap_content)"
   ]
  },
  {
   "cell_type": "code",
   "execution_count": 28,
   "id": "188f9f33",
   "metadata": {},
   "outputs": [
    {
     "data": {
      "text/html": [
       "<div>\n",
       "<style scoped>\n",
       "    .dataframe tbody tr th:only-of-type {\n",
       "        vertical-align: middle;\n",
       "    }\n",
       "\n",
       "    .dataframe tbody tr th {\n",
       "        vertical-align: top;\n",
       "    }\n",
       "\n",
       "    .dataframe thead th {\n",
       "        text-align: right;\n",
       "    }\n",
       "</style>\n",
       "<table border=\"1\" class=\"dataframe\">\n",
       "  <thead>\n",
       "    <tr style=\"text-align: right;\">\n",
       "      <th></th>\n",
       "      <th>repo_name</th>\n",
       "      <th>user_name</th>\n",
       "      <th>repo_url</th>\n",
       "      <th>star</th>\n",
       "    </tr>\n",
       "  </thead>\n",
       "  <tbody>\n",
       "    <tr>\n",
       "      <th>0</th>\n",
       "      <td>ljianshu</td>\n",
       "      <td>Blog</td>\n",
       "      <td>https://github.com/topics/ljianshu/Blog</td>\n",
       "      <td>7200</td>\n",
       "    </tr>\n",
       "    <tr>\n",
       "      <th>1</th>\n",
       "      <td>metafizzy</td>\n",
       "      <td>infinite-scroll</td>\n",
       "      <td>https://github.com/topics/metafizzy/infinite-s...</td>\n",
       "      <td>7100</td>\n",
       "    </tr>\n",
       "    <tr>\n",
       "      <th>2</th>\n",
       "      <td>developit</td>\n",
       "      <td>unfetch</td>\n",
       "      <td>https://github.com/topics/developit/unfetch</td>\n",
       "      <td>5400</td>\n",
       "    </tr>\n",
       "    <tr>\n",
       "      <th>3</th>\n",
       "      <td>jquery-form</td>\n",
       "      <td>form</td>\n",
       "      <td>https://github.com/topics/jquery-form/form</td>\n",
       "      <td>5100</td>\n",
       "    </tr>\n",
       "    <tr>\n",
       "      <th>4</th>\n",
       "      <td>olifolkerd</td>\n",
       "      <td>tabulator</td>\n",
       "      <td>https://github.com/topics/olifolkerd/tabulator</td>\n",
       "      <td>4800</td>\n",
       "    </tr>\n",
       "  </tbody>\n",
       "</table>\n",
       "</div>"
      ],
      "text/plain": [
       "     repo_name        user_name  \\\n",
       "0     ljianshu             Blog   \n",
       "1    metafizzy  infinite-scroll   \n",
       "2    developit          unfetch   \n",
       "3  jquery-form             form   \n",
       "4   olifolkerd        tabulator   \n",
       "\n",
       "                                            repo_url  star  \n",
       "0            https://github.com/topics/ljianshu/Blog  7200  \n",
       "1  https://github.com/topics/metafizzy/infinite-s...  7100  \n",
       "2        https://github.com/topics/developit/unfetch  5400  \n",
       "3         https://github.com/topics/jquery-form/form  5100  \n",
       "4     https://github.com/topics/olifolkerd/tabulator  4800  "
      ]
     },
     "execution_count": 28,
     "metadata": {},
     "output_type": "execute_result"
    }
   ],
   "source": [
    "scrap_content[:5]"
   ]
  }
 ],
 "metadata": {
  "kernelspec": {
   "display_name": "Python 3 (ipykernel)",
   "language": "python",
   "name": "python3"
  },
  "language_info": {
   "codemirror_mode": {
    "name": "ipython",
    "version": 3
   },
   "file_extension": ".py",
   "mimetype": "text/x-python",
   "name": "python",
   "nbconvert_exporter": "python",
   "pygments_lexer": "ipython3",
   "version": "3.8.5"
  }
 },
 "nbformat": 4,
 "nbformat_minor": 5
}
